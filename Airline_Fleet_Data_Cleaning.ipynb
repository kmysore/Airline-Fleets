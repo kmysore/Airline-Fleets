{
 "cells": [
  {
   "cell_type": "markdown",
   "metadata": {},
   "source": [
    "# Airline Fleet Data Cleaning"
   ]
  },
  {
   "cell_type": "markdown",
   "metadata": {},
   "source": [
    "#### Import packages"
   ]
  },
  {
   "cell_type": "code",
   "execution_count": 6,
   "metadata": {},
   "outputs": [],
   "source": [
    "import pandas as pd\n",
    "import numpy as np"
   ]
  },
  {
   "cell_type": "markdown",
   "metadata": {},
   "source": [
    "#### Read csv file into pandas DataFrame and examine data type and null values"
   ]
  },
  {
   "cell_type": "code",
   "execution_count": 7,
   "metadata": {},
   "outputs": [],
   "source": [
    "fleet_df = pd.read_csv(\"fleet_visualization_data_analyst.csv\")\n"
   ]
  },
  {
   "cell_type": "code",
   "execution_count": 8,
   "metadata": {
    "scrolled": true
   },
   "outputs": [
    {
     "name": "stdout",
     "output_type": "stream",
     "text": [
      "<class 'pandas.core.frame.DataFrame'>\n",
      "RangeIndex: 1583 entries, 0 to 1582\n",
      "Data columns (total 11 columns):\n",
      "Parent Airline          1583 non-null object\n",
      "Airline                 1583 non-null object\n",
      "Aircraft Type           1583 non-null object\n",
      "Current                 859 non-null float64\n",
      "Future                  188 non-null float64\n",
      "Historic                1113 non-null float64\n",
      "Total                   1484 non-null float64\n",
      "Orders                  348 non-null float64\n",
      "Unit Cost               1548 non-null object\n",
      "Total Cost (Current)    1556 non-null object\n",
      "Average Age             820 non-null float64\n",
      "dtypes: float64(6), object(5)\n",
      "memory usage: 136.1+ KB\n"
     ]
    }
   ],
   "source": [
    "fleet_df.info()"
   ]
  },
  {
   "cell_type": "markdown",
   "metadata": {},
   "source": [
    "#### Format 'Cost' Columns and change data type to handle calculations"
   ]
  },
  {
   "cell_type": "code",
   "execution_count": 9,
   "metadata": {},
   "outputs": [],
   "source": [
    "fleet_df[\"Unit Cost\"] = fleet_df[\"Unit Cost\"].str.replace('$','').astype(float)\n",
    "fleet_df[\"Total Cost (Current)\"] = fleet_df[\"Total Cost (Current)\"].str.replace('$','')\n",
    "fleet_df[\"Total Cost (Current)\"] = fleet_df[\"Total Cost (Current)\"].str.replace(',','').astype(float)\n",
    "\n"
   ]
  },
  {
   "cell_type": "markdown",
   "metadata": {},
   "source": [
    "#### Check new format of 'Cost' columns"
   ]
  },
  {
   "cell_type": "code",
   "execution_count": 10,
   "metadata": {},
   "outputs": [
    {
     "data": {
      "text/html": [
       "<div>\n",
       "<style scoped>\n",
       "    .dataframe tbody tr th:only-of-type {\n",
       "        vertical-align: middle;\n",
       "    }\n",
       "\n",
       "    .dataframe tbody tr th {\n",
       "        vertical-align: top;\n",
       "    }\n",
       "\n",
       "    .dataframe thead th {\n",
       "        text-align: right;\n",
       "    }\n",
       "</style>\n",
       "<table border=\"1\" class=\"dataframe\">\n",
       "  <thead>\n",
       "    <tr style=\"text-align: right;\">\n",
       "      <th></th>\n",
       "      <th>Parent Airline</th>\n",
       "      <th>Airline</th>\n",
       "      <th>Aircraft Type</th>\n",
       "      <th>Current</th>\n",
       "      <th>Future</th>\n",
       "      <th>Historic</th>\n",
       "      <th>Total</th>\n",
       "      <th>Orders</th>\n",
       "      <th>Unit Cost</th>\n",
       "      <th>Total Cost (Current)</th>\n",
       "      <th>Average Age</th>\n",
       "    </tr>\n",
       "  </thead>\n",
       "  <tbody>\n",
       "    <tr>\n",
       "      <th>7</th>\n",
       "      <td>Aegean Airlines</td>\n",
       "      <td>Aegean Airlines</td>\n",
       "      <td>Boeing 737</td>\n",
       "      <td>NaN</td>\n",
       "      <td>NaN</td>\n",
       "      <td>17.0</td>\n",
       "      <td>17.0</td>\n",
       "      <td>NaN</td>\n",
       "      <td>74.0</td>\n",
       "      <td>0.0</td>\n",
       "      <td>NaN</td>\n",
       "    </tr>\n",
       "    <tr>\n",
       "      <th>1035</th>\n",
       "      <td>Lufthansa</td>\n",
       "      <td>Brussels Airlines</td>\n",
       "      <td>Boeing 737</td>\n",
       "      <td>NaN</td>\n",
       "      <td>NaN</td>\n",
       "      <td>11.0</td>\n",
       "      <td>11.0</td>\n",
       "      <td>NaN</td>\n",
       "      <td>74.0</td>\n",
       "      <td>0.0</td>\n",
       "      <td>NaN</td>\n",
       "    </tr>\n",
       "    <tr>\n",
       "      <th>1036</th>\n",
       "      <td>Lufthansa</td>\n",
       "      <td>Eurowings</td>\n",
       "      <td>Boeing 737</td>\n",
       "      <td>2.0</td>\n",
       "      <td>NaN</td>\n",
       "      <td>1.0</td>\n",
       "      <td>3.0</td>\n",
       "      <td>NaN</td>\n",
       "      <td>74.0</td>\n",
       "      <td>148.0</td>\n",
       "      <td>15.7</td>\n",
       "    </tr>\n",
       "    <tr>\n",
       "      <th>1037</th>\n",
       "      <td>Lufthansa</td>\n",
       "      <td>Brussels Airlines</td>\n",
       "      <td>Boeing 737</td>\n",
       "      <td>NaN</td>\n",
       "      <td>NaN</td>\n",
       "      <td>11.0</td>\n",
       "      <td>11.0</td>\n",
       "      <td>NaN</td>\n",
       "      <td>74.0</td>\n",
       "      <td>0.0</td>\n",
       "      <td>NaN</td>\n",
       "    </tr>\n",
       "    <tr>\n",
       "      <th>1096</th>\n",
       "      <td>Malaysia Airlines</td>\n",
       "      <td>Malaysia Airlines</td>\n",
       "      <td>Boeing 737</td>\n",
       "      <td>56.0</td>\n",
       "      <td>NaN</td>\n",
       "      <td>111.0</td>\n",
       "      <td>167.0</td>\n",
       "      <td>25.0</td>\n",
       "      <td>74.0</td>\n",
       "      <td>4143.0</td>\n",
       "      <td>4.7</td>\n",
       "    </tr>\n",
       "  </tbody>\n",
       "</table>\n",
       "</div>"
      ],
      "text/plain": [
       "         Parent Airline            Airline Aircraft Type  Current  Future  \\\n",
       "7       Aegean Airlines    Aegean Airlines    Boeing 737      NaN     NaN   \n",
       "1035          Lufthansa  Brussels Airlines    Boeing 737      NaN     NaN   \n",
       "1036          Lufthansa          Eurowings    Boeing 737      2.0     NaN   \n",
       "1037          Lufthansa  Brussels Airlines    Boeing 737      NaN     NaN   \n",
       "1096  Malaysia Airlines  Malaysia Airlines    Boeing 737     56.0     NaN   \n",
       "\n",
       "      Historic  Total  Orders  Unit Cost  Total Cost (Current)  Average Age  \n",
       "7         17.0   17.0     NaN       74.0                   0.0          NaN  \n",
       "1035      11.0   11.0     NaN       74.0                   0.0          NaN  \n",
       "1036       1.0    3.0     NaN       74.0                 148.0         15.7  \n",
       "1037      11.0   11.0     NaN       74.0                   0.0          NaN  \n",
       "1096     111.0  167.0    25.0       74.0                4143.0          4.7  "
      ]
     },
     "execution_count": 10,
     "metadata": {},
     "output_type": "execute_result"
    }
   ],
   "source": [
    "fleet_df[fleet_df['Aircraft Type'] == 'Boeing 737'].sort_values(by='Unit Cost').head()"
   ]
  },
  {
   "cell_type": "markdown",
   "metadata": {},
   "source": [
    "#### Sort DataFrame by Aircraft Type and fill in null values for 'Unit Cost'"
   ]
  },
  {
   "cell_type": "code",
   "execution_count": 11,
   "metadata": {},
   "outputs": [],
   "source": [
    "fleet_df = fleet_df.sort_values(by='Aircraft Type')\n"
   ]
  },
  {
   "cell_type": "code",
   "execution_count": 18,
   "metadata": {},
   "outputs": [],
   "source": [
    "fleet_df = fleet_df.reset_index(drop=True)\n",
    "fleet_df['Unit Cost'] = fleet_df[\"Unit Cost\"].fillna(method='ffill')"
   ]
  },
  {
   "cell_type": "markdown",
   "metadata": {},
   "source": [
    "#### Fill in all other null values with 0 and check the data"
   ]
  },
  {
   "cell_type": "code",
   "execution_count": 13,
   "metadata": {},
   "outputs": [
    {
     "name": "stdout",
     "output_type": "stream",
     "text": [
      "<class 'pandas.core.frame.DataFrame'>\n",
      "RangeIndex: 1583 entries, 0 to 1582\n",
      "Data columns (total 11 columns):\n",
      "Parent Airline          1583 non-null object\n",
      "Airline                 1583 non-null object\n",
      "Aircraft Type           1583 non-null object\n",
      "Current                 1583 non-null float64\n",
      "Future                  1583 non-null float64\n",
      "Historic                1583 non-null float64\n",
      "Total                   1583 non-null float64\n",
      "Orders                  1583 non-null float64\n",
      "Unit Cost               1583 non-null float64\n",
      "Total Cost (Current)    1583 non-null float64\n",
      "Average Age             1583 non-null float64\n",
      "dtypes: float64(8), object(3)\n",
      "memory usage: 136.1+ KB\n"
     ]
    }
   ],
   "source": [
    "fleet_df = fleet_df.fillna(0)\n",
    "fleet_df.info()"
   ]
  },
  {
   "cell_type": "markdown",
   "metadata": {},
   "source": [
    "#### Calculate 'Total Cost (Current)' column and display DataFrame"
   ]
  },
  {
   "cell_type": "code",
   "execution_count": 14,
   "metadata": {},
   "outputs": [],
   "source": [
    "fleet_df['Total Cost (Current)'] = fleet_df['Current'] * fleet_df['Unit Cost']"
   ]
  },
  {
   "cell_type": "code",
   "execution_count": 20,
   "metadata": {},
   "outputs": [
    {
     "data": {
      "text/html": [
       "<div>\n",
       "<style scoped>\n",
       "    .dataframe tbody tr th:only-of-type {\n",
       "        vertical-align: middle;\n",
       "    }\n",
       "\n",
       "    .dataframe tbody tr th {\n",
       "        vertical-align: top;\n",
       "    }\n",
       "\n",
       "    .dataframe thead th {\n",
       "        text-align: right;\n",
       "    }\n",
       "</style>\n",
       "<table border=\"1\" class=\"dataframe\">\n",
       "  <thead>\n",
       "    <tr style=\"text-align: right;\">\n",
       "      <th></th>\n",
       "      <th>Parent Airline</th>\n",
       "      <th>Airline</th>\n",
       "      <th>Aircraft Type</th>\n",
       "      <th>Current</th>\n",
       "      <th>Future</th>\n",
       "      <th>Historic</th>\n",
       "      <th>Total</th>\n",
       "      <th>Orders</th>\n",
       "      <th>Unit Cost</th>\n",
       "      <th>Total Cost (Current)</th>\n",
       "      <th>Average Age</th>\n",
       "    </tr>\n",
       "  </thead>\n",
       "  <tbody>\n",
       "    <tr>\n",
       "      <th>0</th>\n",
       "      <td>FedEx Express</td>\n",
       "      <td>FedEx Feeder Fleet</td>\n",
       "      <td>ATR 42-300F/-320F</td>\n",
       "      <td>26.0</td>\n",
       "      <td>0.0</td>\n",
       "      <td>0.0</td>\n",
       "      <td>0.0</td>\n",
       "      <td>0.0</td>\n",
       "      <td>20.0</td>\n",
       "      <td>520.0</td>\n",
       "      <td>0.0</td>\n",
       "    </tr>\n",
       "    <tr>\n",
       "      <th>1</th>\n",
       "      <td>Japan Airlines</td>\n",
       "      <td>Japan Air Commuter (60% owned)</td>\n",
       "      <td>ATR 42-600</td>\n",
       "      <td>0.0</td>\n",
       "      <td>0.0</td>\n",
       "      <td>0.0</td>\n",
       "      <td>0.0</td>\n",
       "      <td>8.0</td>\n",
       "      <td>20.0</td>\n",
       "      <td>0.0</td>\n",
       "      <td>0.0</td>\n",
       "    </tr>\n",
       "    <tr>\n",
       "      <th>2</th>\n",
       "      <td>Royal Air Maroc</td>\n",
       "      <td>Royal Air Maroc Express</td>\n",
       "      <td>ATR 42-600</td>\n",
       "      <td>0.0</td>\n",
       "      <td>0.0</td>\n",
       "      <td>0.0</td>\n",
       "      <td>2.0</td>\n",
       "      <td>0.0</td>\n",
       "      <td>20.0</td>\n",
       "      <td>0.0</td>\n",
       "      <td>0.0</td>\n",
       "    </tr>\n",
       "    <tr>\n",
       "      <th>3</th>\n",
       "      <td>Thai Airways</td>\n",
       "      <td>Nok Air</td>\n",
       "      <td>ATR 42/72</td>\n",
       "      <td>2.0</td>\n",
       "      <td>0.0</td>\n",
       "      <td>2.0</td>\n",
       "      <td>4.0</td>\n",
       "      <td>0.0</td>\n",
       "      <td>22.0</td>\n",
       "      <td>44.0</td>\n",
       "      <td>9.5</td>\n",
       "    </tr>\n",
       "    <tr>\n",
       "      <th>4</th>\n",
       "      <td>Thai Airways</td>\n",
       "      <td>Thai Airways</td>\n",
       "      <td>ATR 42/72</td>\n",
       "      <td>0.0</td>\n",
       "      <td>0.0</td>\n",
       "      <td>4.0</td>\n",
       "      <td>4.0</td>\n",
       "      <td>0.0</td>\n",
       "      <td>22.0</td>\n",
       "      <td>0.0</td>\n",
       "      <td>0.0</td>\n",
       "    </tr>\n",
       "    <tr>\n",
       "      <th>5</th>\n",
       "      <td>IAG</td>\n",
       "      <td>Aer Lingus Regional</td>\n",
       "      <td>ATR 42/72</td>\n",
       "      <td>11.0</td>\n",
       "      <td>0.0</td>\n",
       "      <td>12.0</td>\n",
       "      <td>23.0</td>\n",
       "      <td>0.0</td>\n",
       "      <td>22.0</td>\n",
       "      <td>242.0</td>\n",
       "      <td>4.8</td>\n",
       "    </tr>\n",
       "    <tr>\n",
       "      <th>6</th>\n",
       "      <td>IAG</td>\n",
       "      <td>Air Nostrum/Iberia Regional</td>\n",
       "      <td>ATR 42/72</td>\n",
       "      <td>5.0</td>\n",
       "      <td>0.0</td>\n",
       "      <td>14.0</td>\n",
       "      <td>19.0</td>\n",
       "      <td>0.0</td>\n",
       "      <td>22.0</td>\n",
       "      <td>110.0</td>\n",
       "      <td>4.5</td>\n",
       "    </tr>\n",
       "    <tr>\n",
       "      <th>7</th>\n",
       "      <td>Hawaiian Airlines</td>\n",
       "      <td>Hawaiian Airlines</td>\n",
       "      <td>ATR 42/72</td>\n",
       "      <td>3.0</td>\n",
       "      <td>0.0</td>\n",
       "      <td>0.0</td>\n",
       "      <td>0.0</td>\n",
       "      <td>0.0</td>\n",
       "      <td>22.0</td>\n",
       "      <td>66.0</td>\n",
       "      <td>0.0</td>\n",
       "    </tr>\n",
       "    <tr>\n",
       "      <th>8</th>\n",
       "      <td>Grupo Aeromexico</td>\n",
       "      <td>Aeromexico Express</td>\n",
       "      <td>ATR 42/72</td>\n",
       "      <td>2.0</td>\n",
       "      <td>0.0</td>\n",
       "      <td>0.0</td>\n",
       "      <td>2.0</td>\n",
       "      <td>0.0</td>\n",
       "      <td>22.0</td>\n",
       "      <td>44.0</td>\n",
       "      <td>3.5</td>\n",
       "    </tr>\n",
       "    <tr>\n",
       "      <th>9</th>\n",
       "      <td>Air Europa</td>\n",
       "      <td>Air Europa</td>\n",
       "      <td>ATR 42/72</td>\n",
       "      <td>4.0</td>\n",
       "      <td>0.0</td>\n",
       "      <td>6.0</td>\n",
       "      <td>10.0</td>\n",
       "      <td>0.0</td>\n",
       "      <td>22.0</td>\n",
       "      <td>88.0</td>\n",
       "      <td>21.9</td>\n",
       "    </tr>\n",
       "  </tbody>\n",
       "</table>\n",
       "</div>"
      ],
      "text/plain": [
       "      Parent Airline                         Airline      Aircraft Type  \\\n",
       "0      FedEx Express              FedEx Feeder Fleet  ATR 42-300F/-320F   \n",
       "1     Japan Airlines  Japan Air Commuter (60% owned)         ATR 42-600   \n",
       "2    Royal Air Maroc         Royal Air Maroc Express         ATR 42-600   \n",
       "3       Thai Airways                         Nok Air          ATR 42/72   \n",
       "4       Thai Airways                    Thai Airways          ATR 42/72   \n",
       "5                IAG             Aer Lingus Regional          ATR 42/72   \n",
       "6                IAG     Air Nostrum/Iberia Regional          ATR 42/72   \n",
       "7  Hawaiian Airlines               Hawaiian Airlines          ATR 42/72   \n",
       "8   Grupo Aeromexico              Aeromexico Express          ATR 42/72   \n",
       "9         Air Europa                      Air Europa          ATR 42/72   \n",
       "\n",
       "   Current  Future  Historic  Total  Orders  Unit Cost  Total Cost (Current)  \\\n",
       "0     26.0     0.0       0.0    0.0     0.0       20.0                 520.0   \n",
       "1      0.0     0.0       0.0    0.0     8.0       20.0                   0.0   \n",
       "2      0.0     0.0       0.0    2.0     0.0       20.0                   0.0   \n",
       "3      2.0     0.0       2.0    4.0     0.0       22.0                  44.0   \n",
       "4      0.0     0.0       4.0    4.0     0.0       22.0                   0.0   \n",
       "5     11.0     0.0      12.0   23.0     0.0       22.0                 242.0   \n",
       "6      5.0     0.0      14.0   19.0     0.0       22.0                 110.0   \n",
       "7      3.0     0.0       0.0    0.0     0.0       22.0                  66.0   \n",
       "8      2.0     0.0       0.0    2.0     0.0       22.0                  44.0   \n",
       "9      4.0     0.0       6.0   10.0     0.0       22.0                  88.0   \n",
       "\n",
       "   Average Age  \n",
       "0          0.0  \n",
       "1          0.0  \n",
       "2          0.0  \n",
       "3          9.5  \n",
       "4          0.0  \n",
       "5          4.8  \n",
       "6          4.5  \n",
       "7          0.0  \n",
       "8          3.5  \n",
       "9         21.9  "
      ]
     },
     "execution_count": 20,
     "metadata": {},
     "output_type": "execute_result"
    }
   ],
   "source": [
    "fleet_df.head(10)"
   ]
  },
  {
   "cell_type": "markdown",
   "metadata": {},
   "source": [
    "#### Write the clean DataFrame to a csv file for use with Tableau"
   ]
  },
  {
   "cell_type": "code",
   "execution_count": 16,
   "metadata": {},
   "outputs": [],
   "source": [
    "fleet_df.to_csv(\"clean_fleet_data.csv\")"
   ]
  },
  {
   "cell_type": "code",
   "execution_count": null,
   "metadata": {},
   "outputs": [],
   "source": []
  }
 ],
 "metadata": {
  "kernelspec": {
   "display_name": "Python 3",
   "language": "python",
   "name": "python3"
  },
  "language_info": {
   "codemirror_mode": {
    "name": "ipython",
    "version": 3
   },
   "file_extension": ".py",
   "mimetype": "text/x-python",
   "name": "python",
   "nbconvert_exporter": "python",
   "pygments_lexer": "ipython3",
   "version": "3.6.8"
  }
 },
 "nbformat": 4,
 "nbformat_minor": 2
}
